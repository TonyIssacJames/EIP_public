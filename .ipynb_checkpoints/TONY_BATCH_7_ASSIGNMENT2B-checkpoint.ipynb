{
 "cells": [
  {
   "cell_type": "code",
   "execution_count": 173,
   "metadata": {},
   "outputs": [],
   "source": [
    "import numpy as np"
   ]
  },
  {
   "cell_type": "code",
   "execution_count": 174,
   "metadata": {},
   "outputs": [],
   "source": [
    "import math"
   ]
  },
  {
   "cell_type": "code",
   "execution_count": null,
   "metadata": {},
   "outputs": [],
   "source": []
  },
  {
   "cell_type": "markdown",
   "metadata": {},
   "source": [
    "### Helper function defenitions"
   ]
  },
  {
   "cell_type": "code",
   "execution_count": 175,
   "metadata": {},
   "outputs": [],
   "source": [
    "def sigmoid(X):\n",
    "    shape = X.shape\n",
    "    ones =  np.ones(shape, dtype=float)\n",
    "    temp = ones/(ones + np.exp(-X))\n",
    "    return temp"
   ]
  },
  {
   "cell_type": "code",
   "execution_count": 176,
   "metadata": {},
   "outputs": [],
   "source": [
    "\n",
    "\n",
    "def sigmoid_1(x):\n",
    "  return 1 / (1 + math.exp(-x))"
   ]
  },
  {
   "cell_type": "code",
   "execution_count": 177,
   "metadata": {},
   "outputs": [],
   "source": [
    "def derivatives_sigmoid(Z):\n",
    "    shape = Z.shape\n",
    "    ones  = np.ones(shape, dtype=float)\n",
    "    sigm  = sigmoid(Z)\n",
    "    one_m_sigm = ones - sigmoid(Z)\n",
    "    \n",
    "    temp = np.multiply(sigm , one_m_sigm )\n",
    "    \n",
    "    \n",
    "    return temp"
   ]
  },
  {
   "cell_type": "code",
   "execution_count": 178,
   "metadata": {},
   "outputs": [
    {
     "data": {
      "text/plain": [
       "'\\ndef derivatives_sigmoid(Z):\\n    shape = Z.shape\\n    ones  = np.ones(shape, dtype=float)\\n    sigm  = Z\\n    one_m_sigm = ones - Z\\n    \\n    temp = np.multiply(sigm , one_m_sigm )\\n    \\n    \\n    return temp\\n'"
      ]
     },
     "execution_count": 178,
     "metadata": {},
     "output_type": "execute_result"
    }
   ],
   "source": [
    "#for debugging\n",
    "'''\n",
    "def derivatives_sigmoid(Z):\n",
    "    shape = Z.shape\n",
    "    ones  = np.ones(shape, dtype=float)\n",
    "    sigm  = Z\n",
    "    one_m_sigm = ones - Z\n",
    "    \n",
    "    temp = np.multiply(sigm , one_m_sigm )\n",
    "    \n",
    "    \n",
    "    return temp\n",
    "'''"
   ]
  },
  {
   "cell_type": "code",
   "execution_count": null,
   "metadata": {},
   "outputs": [],
   "source": [
    "\n",
    "    "
   ]
  },
  {
   "cell_type": "markdown",
   "metadata": {},
   "source": [
    "### Define Global parameters"
   ]
  },
  {
   "cell_type": "code",
   "execution_count": 179,
   "metadata": {},
   "outputs": [],
   "source": [
    "lr = 1.0\n",
    "learning_rate = 0.1"
   ]
  },
  {
   "cell_type": "markdown",
   "metadata": {},
   "source": [
    "### Create input and output"
   ]
  },
  {
   "cell_type": "code",
   "execution_count": 180,
   "metadata": {},
   "outputs": [],
   "source": [
    "X = [1, 0 , 1, 0,  1, 0 , 1, 1,  0, 1 , 0, 1]\n",
    "Y = [1, 1, 0]"
   ]
  },
  {
   "cell_type": "code",
   "execution_count": null,
   "metadata": {},
   "outputs": [],
   "source": []
  },
  {
   "cell_type": "code",
   "execution_count": 181,
   "metadata": {},
   "outputs": [],
   "source": [
    "X = np.array(X, dtype=float)\n",
    "Y = np.array(Y, dtype=float)"
   ]
  },
  {
   "cell_type": "code",
   "execution_count": 182,
   "metadata": {},
   "outputs": [],
   "source": [
    "\n",
    "X = X.reshape(3, 4)\n",
    "Y = Y.reshape(3, 1)"
   ]
  },
  {
   "cell_type": "code",
   "execution_count": null,
   "metadata": {},
   "outputs": [],
   "source": []
  },
  {
   "cell_type": "code",
   "execution_count": 183,
   "metadata": {},
   "outputs": [
    {
     "data": {
      "text/plain": [
       "(array([[1., 0., 1., 0.],\n",
       "        [1., 0., 1., 1.],\n",
       "        [0., 1., 0., 1.]]), array([[1.],\n",
       "        [1.],\n",
       "        [0.]]))"
      ]
     },
     "execution_count": 183,
     "metadata": {},
     "output_type": "execute_result"
    }
   ],
   "source": [
    "X, Y"
   ]
  },
  {
   "cell_type": "code",
   "execution_count": 184,
   "metadata": {},
   "outputs": [
    {
     "data": {
      "text/plain": [
       "((3, 4), (3, 1))"
      ]
     },
     "execution_count": 184,
     "metadata": {},
     "output_type": "execute_result"
    }
   ],
   "source": [
    "X.shape, Y.shape"
   ]
  },
  {
   "cell_type": "markdown",
   "metadata": {},
   "source": [
    "### Randomly intialize the weights and biases"
   ]
  },
  {
   "cell_type": "code",
   "execution_count": 185,
   "metadata": {},
   "outputs": [],
   "source": [
    "wh = np.random.random((4,3))\n",
    "bh = np.random.random((1,3))\n",
    "\n"
   ]
  },
  {
   "cell_type": "code",
   "execution_count": 186,
   "metadata": {},
   "outputs": [
    {
     "data": {
      "text/plain": [
       "'\\nwh = [0.42, 0.88 , 0.55, 0.10,  0.73, 0.68 , 0.60, 0.18,  0.47, 0.92 , 0.11, 0.52]\\nbh = [0.46, 0.72, 0.08]\\nwh = np.array(wh, dtype=float)\\nbh = np.array(bh, dtype=float)\\nwh = wh.reshape(4, 3)\\nbh = bh.reshape(1, 3)\\n'"
      ]
     },
     "execution_count": 186,
     "metadata": {},
     "output_type": "execute_result"
    }
   ],
   "source": [
    "#for debugging\n",
    "'''\n",
    "wh = [0.42, 0.88 , 0.55, 0.10,  0.73, 0.68 , 0.60, 0.18,  0.47, 0.92 , 0.11, 0.52]\n",
    "bh = [0.46, 0.72, 0.08]\n",
    "wh = np.array(wh, dtype=float)\n",
    "bh = np.array(bh, dtype=float)\n",
    "wh = wh.reshape(4, 3)\n",
    "bh = bh.reshape(1, 3)\n",
    "'''"
   ]
  },
  {
   "cell_type": "code",
   "execution_count": 187,
   "metadata": {},
   "outputs": [],
   "source": [
    "wout = np.random.random((3,1))\n",
    "bout = np.random.random((1,1))"
   ]
  },
  {
   "cell_type": "code",
   "execution_count": 188,
   "metadata": {},
   "outputs": [
    {
     "data": {
      "text/plain": [
       "'\\nwout = [0.30, 0.25, 0.23]\\nbout = [0.69]\\nwout = np.array(wout, dtype=float)\\nbout = np.array(bout, dtype=float)\\nwout = wout.reshape(3, 1)\\nbout = bout.reshape(1, 1)\\n'"
      ]
     },
     "execution_count": 188,
     "metadata": {},
     "output_type": "execute_result"
    }
   ],
   "source": [
    "#for debugging\n",
    "'''\n",
    "wout = [0.30, 0.25, 0.23]\n",
    "bout = [0.69]\n",
    "wout = np.array(wout, dtype=float)\n",
    "bout = np.array(bout, dtype=float)\n",
    "wout = wout.reshape(3, 1)\n",
    "bout = bout.reshape(1, 1)\n",
    "'''"
   ]
  },
  {
   "cell_type": "code",
   "execution_count": 189,
   "metadata": {},
   "outputs": [
    {
     "data": {
      "text/plain": [
       "(array([[0.81713012, 0.08637283, 0.86273144],\n",
       "        [0.74001592, 0.8800434 , 0.65110095],\n",
       "        [0.42822768, 0.69629792, 0.28597781],\n",
       "        [0.12328904, 0.12136981, 0.81218701]]),\n",
       " array([[0.73873755, 0.0386873 , 0.00608855]]),\n",
       " array([[0.44858273],\n",
       "        [0.45362512],\n",
       "        [0.92406105]]),\n",
       " array([[0.74673824]]))"
      ]
     },
     "execution_count": 189,
     "metadata": {},
     "output_type": "execute_result"
    }
   ],
   "source": [
    "wh, bh, wout, bout"
   ]
  },
  {
   "cell_type": "code",
   "execution_count": 190,
   "metadata": {},
   "outputs": [
    {
     "data": {
      "text/plain": [
       "((4, 3), (1, 3), (3, 1), (1, 1))"
      ]
     },
     "execution_count": 190,
     "metadata": {},
     "output_type": "execute_result"
    }
   ],
   "source": [
    "wh.shape, bh.shape, wout.shape, bout.shape"
   ]
  },
  {
   "cell_type": "markdown",
   "metadata": {},
   "source": [
    "### Forward propagation"
   ]
  },
  {
   "cell_type": "code",
   "execution_count": null,
   "metadata": {},
   "outputs": [],
   "source": []
  },
  {
   "cell_type": "code",
   "execution_count": 191,
   "metadata": {},
   "outputs": [],
   "source": [
    "hidden_layer_input = np.matmul(X, wh) + bh "
   ]
  },
  {
   "cell_type": "code",
   "execution_count": 192,
   "metadata": {},
   "outputs": [],
   "source": [
    "hiddenlayer_activations = sigmoid(hidden_layer_input)"
   ]
  },
  {
   "cell_type": "code",
   "execution_count": 193,
   "metadata": {},
   "outputs": [
    {
     "data": {
      "text/plain": [
       "(array([[1.98409536, 0.82135805, 1.1547978 ],\n",
       "        [2.1073844 , 0.94272785, 1.96698481],\n",
       "        [1.60204252, 1.04010051, 1.46937651]]),\n",
       " array([[0.87911705, 0.69452454, 0.76038616],\n",
       "        [0.89161883, 0.71965034, 0.87728688],\n",
       "        [0.83230366, 0.7388694 , 0.8129626 ]]))"
      ]
     },
     "execution_count": 193,
     "metadata": {},
     "output_type": "execute_result"
    }
   ],
   "source": [
    "hidden_layer_input, hiddenlayer_activations"
   ]
  },
  {
   "cell_type": "code",
   "execution_count": 194,
   "metadata": {},
   "outputs": [],
   "source": [
    "output_layer_input = np.matmul(hiddenlayer_activations, wout) + bout"
   ]
  },
  {
   "cell_type": "code",
   "execution_count": 195,
   "metadata": {},
   "outputs": [],
   "source": [
    "output = sigmoid(output_layer_input)"
   ]
  },
  {
   "cell_type": "code",
   "execution_count": 196,
   "metadata": {},
   "outputs": [
    {
     "data": {
      "text/plain": [
       "(array([[2.15879198],\n",
       "        [2.28382116],\n",
       "        [2.20649208]]), array([[0.8964875 ],\n",
       "        [0.90752822],\n",
       "        [0.90083099]]))"
      ]
     },
     "execution_count": 196,
     "metadata": {},
     "output_type": "execute_result"
    }
   ],
   "source": [
    "output_layer_input, output"
   ]
  },
  {
   "cell_type": "code",
   "execution_count": 197,
   "metadata": {},
   "outputs": [],
   "source": [
    "E = Y - output"
   ]
  },
  {
   "cell_type": "code",
   "execution_count": 198,
   "metadata": {},
   "outputs": [
    {
     "data": {
      "text/plain": [
       "array([[ 0.1035125 ],\n",
       "       [ 0.09247178],\n",
       "       [-0.90083099]])"
      ]
     },
     "execution_count": 198,
     "metadata": {},
     "output_type": "execute_result"
    }
   ],
   "source": [
    "E"
   ]
  },
  {
   "cell_type": "markdown",
   "metadata": {},
   "source": [
    "### Back propagation"
   ]
  },
  {
   "cell_type": "code",
   "execution_count": 199,
   "metadata": {},
   "outputs": [],
   "source": [
    "slope_output_layer = derivatives_sigmoid(output)"
   ]
  },
  {
   "cell_type": "code",
   "execution_count": 200,
   "metadata": {},
   "outputs": [],
   "source": [
    "slope_hidden_layer = derivatives_sigmoid(hiddenlayer_activations)"
   ]
  },
  {
   "cell_type": "code",
   "execution_count": 201,
   "metadata": {},
   "outputs": [
    {
     "data": {
      "text/plain": [
       "(array([[0.20580455],\n",
       "        [0.20484626],\n",
       "        [0.20542824]]), array([[0.20730023, 0.22212013, 0.21708041],\n",
       "        [0.20622526, 0.22023339, 0.20745694],\n",
       "        [0.2112533 , 0.21875994, 0.21285112]]))"
      ]
     },
     "execution_count": 201,
     "metadata": {},
     "output_type": "execute_result"
    }
   ],
   "source": [
    "slope_output_layer, slope_hidden_layer"
   ]
  },
  {
   "cell_type": "code",
   "execution_count": 202,
   "metadata": {},
   "outputs": [],
   "source": [
    "d_output = np.multiply(np.multiply(E ,slope_output_layer), lr)"
   ]
  },
  {
   "cell_type": "code",
   "execution_count": 203,
   "metadata": {},
   "outputs": [
    {
     "data": {
      "text/plain": [
       "array([[ 0.02130334],\n",
       "       [ 0.0189425 ],\n",
       "       [-0.18505613]])"
      ]
     },
     "execution_count": 203,
     "metadata": {},
     "output_type": "execute_result"
    }
   ],
   "source": [
    "d_output"
   ]
  },
  {
   "cell_type": "code",
   "execution_count": 204,
   "metadata": {},
   "outputs": [],
   "source": [
    "Error_at_hidden_layer = np.dot(d_output, wout.transpose())"
   ]
  },
  {
   "cell_type": "code",
   "execution_count": 205,
   "metadata": {},
   "outputs": [
    {
     "data": {
      "text/plain": [
       "array([[ 0.00955631,  0.00966373,  0.01968559],\n",
       "       [ 0.00849728,  0.00859279,  0.01750402],\n",
       "       [-0.08301298, -0.08394611, -0.17100316]])"
      ]
     },
     "execution_count": 205,
     "metadata": {},
     "output_type": "execute_result"
    }
   ],
   "source": [
    "Error_at_hidden_layer"
   ]
  },
  {
   "cell_type": "code",
   "execution_count": 206,
   "metadata": {},
   "outputs": [],
   "source": [
    "d_hiddenlayer = np.multiply(Error_at_hidden_layer , slope_hidden_layer)"
   ]
  },
  {
   "cell_type": "code",
   "execution_count": 207,
   "metadata": {},
   "outputs": [
    {
     "data": {
      "text/plain": [
       "array([[ 0.00198103,  0.00214651,  0.00427336],\n",
       "       [ 0.00175235,  0.00189242,  0.00363133],\n",
       "       [-0.01753677, -0.01836405, -0.03639821]])"
      ]
     },
     "execution_count": 207,
     "metadata": {},
     "output_type": "execute_result"
    }
   ],
   "source": [
    "d_hiddenlayer"
   ]
  },
  {
   "cell_type": "code",
   "execution_count": 208,
   "metadata": {},
   "outputs": [],
   "source": [
    "wout = wout + np.dot(hiddenlayer_activations.transpose(), d_output) * learning_rate"
   ]
  },
  {
   "cell_type": "code",
   "execution_count": 209,
   "metadata": {},
   "outputs": [
    {
     "data": {
      "text/plain": [
       "array([[0.4367422 ],\n",
       "       [0.44279466],\n",
       "       [0.91229836]])"
      ]
     },
     "execution_count": 209,
     "metadata": {},
     "output_type": "execute_result"
    }
   ],
   "source": [
    "wout"
   ]
  },
  {
   "cell_type": "code",
   "execution_count": 210,
   "metadata": {},
   "outputs": [],
   "source": [
    "wh = wh + np.dot(X.transpose(),d_hiddenlayer) * learning_rate"
   ]
  },
  {
   "cell_type": "code",
   "execution_count": 211,
   "metadata": {},
   "outputs": [
    {
     "data": {
      "text/plain": [
       "array([[0.81750346, 0.08677672, 0.86352191],\n",
       "       [0.73826225, 0.878207  , 0.64746113],\n",
       "       [0.42860102, 0.69670181, 0.28676828],\n",
       "       [0.1217106 , 0.11972264, 0.80891032]])"
      ]
     },
     "execution_count": 211,
     "metadata": {},
     "output_type": "execute_result"
    }
   ],
   "source": [
    "wh"
   ]
  },
  {
   "cell_type": "code",
   "execution_count": 212,
   "metadata": {},
   "outputs": [],
   "source": [
    "bh = bh + np.sum(d_hiddenlayer, axis=0) * learning_rate"
   ]
  },
  {
   "cell_type": "code",
   "execution_count": 213,
   "metadata": {},
   "outputs": [
    {
     "data": {
      "text/plain": [
       "array([[0.73735722, 0.03725478, 0.00323919]])"
      ]
     },
     "execution_count": 213,
     "metadata": {},
     "output_type": "execute_result"
    }
   ],
   "source": [
    "bh"
   ]
  },
  {
   "cell_type": "code",
   "execution_count": 214,
   "metadata": {},
   "outputs": [],
   "source": [
    "bout = bout + np.sum(d_output, axis=0) * learning_rate"
   ]
  },
  {
   "cell_type": "code",
   "execution_count": 215,
   "metadata": {},
   "outputs": [
    {
     "data": {
      "text/plain": [
       "array([[0.73225721]])"
      ]
     },
     "execution_count": 215,
     "metadata": {},
     "output_type": "execute_result"
    }
   ],
   "source": [
    "bout"
   ]
  },
  {
   "cell_type": "code",
   "execution_count": null,
   "metadata": {},
   "outputs": [],
   "source": []
  }
 ],
 "metadata": {
  "kernelspec": {
   "display_name": "Python 3",
   "language": "python",
   "name": "python3"
  },
  "language_info": {
   "codemirror_mode": {
    "name": "ipython",
    "version": 3
   },
   "file_extension": ".py",
   "mimetype": "text/x-python",
   "name": "python",
   "nbconvert_exporter": "python",
   "pygments_lexer": "ipython3",
   "version": "3.6.3"
  }
 },
 "nbformat": 4,
 "nbformat_minor": 2
}
